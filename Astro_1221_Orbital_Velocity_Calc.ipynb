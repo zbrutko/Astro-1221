{
  "nbformat": 4,
  "nbformat_minor": 0,
  "metadata": {
    "colab": {
      "provenance": [],
      "authorship_tag": "ABX9TyNhAi7Np7Vitt7o32c6F/uK",
      "include_colab_link": true
    },
    "kernelspec": {
      "name": "python3",
      "display_name": "Python 3"
    },
    "language_info": {
      "name": "python"
    }
  },
  "cells": [
    {
      "cell_type": "markdown",
      "metadata": {
        "id": "view-in-github",
        "colab_type": "text"
      },
      "source": [
        "<a href=\"https://colab.research.google.com/github/zbrutko/Astro-1221/blob/main/Astro_1221_Orbital_Velocity_Calc.ipynb\" target=\"_parent\"><img src=\"https://colab.research.google.com/assets/colab-badge.svg\" alt=\"Open In Colab\"/></a>"
      ]
    },
    {
      "cell_type": "code",
      "execution_count": null,
      "metadata": {
        "id": "SaEmRVvz34Um"
      },
      "outputs": [],
      "source": []
    },
    {
      "cell_type": "markdown",
      "source": [
        "$V = \\sqrt\\frac{GM}{R}$. This is the equation that we use to calculate orbital velocity."
      ],
      "metadata": {
        "id": "ULiT3T7q4GWe"
      }
    },
    {
      "cell_type": "code",
      "source": [
        "import astropy.constants as const # Import a python package to call the value of certain constatns\n",
        "import astropy.units as u # import a python package to call certain units, e.g, the mass of the Sun."
      ],
      "metadata": {
        "id": "PUAHIQKq414i"
      },
      "execution_count": 2,
      "outputs": []
    },
    {
      "cell_type": "code",
      "source": [
        "M = 1 * u.solMass # Define M as a physical quantity with a value and a unit\n",
        "print(M.to(u.kg)) # print out M in units of Kilograms"
      ],
      "metadata": {
        "colab": {
          "base_uri": "https://localhost:8080/"
        },
        "id": "pM9gjnqh5lvl",
        "outputId": "7ff11cc9-5d0a-4aa7-f695-7550dbcacac6"
      },
      "execution_count": null,
      "outputs": [
        {
          "output_type": "stream",
          "name": "stdout",
          "text": [
            "1.988409870698051e+30 kg\n"
          ]
        }
      ]
    },
    {
      "cell_type": "code",
      "source": [
        "R  = (1 * u.AU) # Define R as a physical quantity with a value and a unit\n",
        "print(R.to(u.km)) # print out R in units of kilometers"
      ],
      "metadata": {
        "colab": {
          "base_uri": "https://localhost:8080/"
        },
        "id": "wxIRz-dR6kEK",
        "outputId": "bb7e914b-8c3a-4927-9423-3c36647100b3"
      },
      "execution_count": null,
      "outputs": [
        {
          "output_type": "stream",
          "name": "stdout",
          "text": [
            "149597870.7 km\n"
          ]
        }
      ]
    },
    {
      "cell_type": "code",
      "source": [
        "G = 1 * const.G # Define G as the physical constant G with a value and units\n",
        "print(G.si) # print out G in SI units"
      ],
      "metadata": {
        "colab": {
          "base_uri": "https://localhost:8080/"
        },
        "id": "LYJAfqqw7gNd",
        "outputId": "305e6cf1-d739-4618-9e45-4d243f40bdde"
      },
      "execution_count": null,
      "outputs": [
        {
          "output_type": "stream",
          "name": "stdout",
          "text": [
            "6.6743e-11 m3 / (kg s2)\n"
          ]
        }
      ]
    },
    {
      "cell_type": "code",
      "source": [
        "import numpy as np # import numpy package which allows us to conduct math operations for the defined quantities"
      ],
      "metadata": {
        "id": "46y4N5c_8yCZ"
      },
      "execution_count": null,
      "outputs": []
    },
    {
      "cell_type": "code",
      "source": [
        "V = np.sqrt(G * M / R) # Calculate and print out V, the orbital velocity of the object revolving around the sun in units of Kilometers per second\n",
        "print(V.to(u.km/u.s))"
      ],
      "metadata": {
        "colab": {
          "base_uri": "https://localhost:8080/"
        },
        "id": "PS7iY73B83Pz",
        "outputId": "2f162f4b-ef2c-4401-9153-3403107bdf65"
      },
      "execution_count": null,
      "outputs": [
        {
          "output_type": "stream",
          "name": "stdout",
          "text": [
            "29.784691829676934 km / s\n"
          ]
        }
      ]
    },
    {
      "cell_type": "code",
      "source": [
        "R_jupiter = 5.2 * u.AU #This is the oribtal distance between jupiter and the sun"
      ],
      "metadata": {
        "id": "Pv1raOcP_oZj"
      },
      "execution_count": null,
      "outputs": []
    },
    {
      "cell_type": "code",
      "source": [
        "V_jupiter = np.sqrt(G * M / R_jupiter) # Calculate and print out V, the orbital velocity of the object revolving around the sun in units of Kilometers per second\n",
        "print(V_jupiter.to(u.km/u.s))"
      ],
      "metadata": {
        "colab": {
          "base_uri": "https://localhost:8080/"
        },
        "id": "iGeNpXsj_zUk",
        "outputId": "008dc3bd-4300-4460-c019-334857917480"
      },
      "execution_count": null,
      "outputs": [
        {
          "output_type": "stream",
          "name": "stdout",
          "text": [
            "13.061451410903354 km / s\n"
          ]
        }
      ]
    }
  ]
}